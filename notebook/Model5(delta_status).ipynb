{
 "cells": [
  {
   "cell_type": "code",
   "execution_count": null,
   "metadata": {},
   "outputs": [],
   "source": [
    "### Multi variate Linear Regression Analysis. Models Lasso and Ridge. X = Country and Year"
   ]
  },
  {
   "cell_type": "code",
   "execution_count": 3,
   "metadata": {},
   "outputs": [],
   "source": [
    "import os\n",
    "import re\n",
    "import numpy as np\n",
    "import pandas as pd\n",
    "%matplotlib inline\n",
    "import matplotlib.pyplot as plt\n",
    "\n",
    "from sklearn.model_selection import train_test_split\n",
    "\n",
    "import warnings\n",
    "warnings.filterwarnings(\"ignore\")"
   ]
  },
  {
   "cell_type": "code",
   "execution_count": 4,
   "metadata": {},
   "outputs": [
    {
     "name": "stdout",
     "output_type": "stream",
     "text": [
      "Shape of the data is: (140, 3)\n"
     ]
    },
    {
     "data": {
      "text/html": [
       "<div>\n",
       "<style scoped>\n",
       "    .dataframe tbody tr th:only-of-type {\n",
       "        vertical-align: middle;\n",
       "    }\n",
       "\n",
       "    .dataframe tbody tr th {\n",
       "        vertical-align: top;\n",
       "    }\n",
       "\n",
       "    .dataframe thead th {\n",
       "        text-align: right;\n",
       "    }\n",
       "</style>\n",
       "<table border=\"1\" class=\"dataframe\">\n",
       "  <thead>\n",
       "    <tr style=\"text-align: right;\">\n",
       "      <th></th>\n",
       "      <th>country</th>\n",
       "      <th>literacyRate</th>\n",
       "      <th>population</th>\n",
       "    </tr>\n",
       "  </thead>\n",
       "  <tbody>\n",
       "    <tr>\n",
       "      <th>0</th>\n",
       "      <td>Afghanistan</td>\n",
       "      <td>43.0</td>\n",
       "      <td>38928346</td>\n",
       "    </tr>\n",
       "    <tr>\n",
       "      <th>1</th>\n",
       "      <td>Albania</td>\n",
       "      <td>98.1</td>\n",
       "      <td>2877797</td>\n",
       "    </tr>\n",
       "    <tr>\n",
       "      <th>2</th>\n",
       "      <td>Algeria</td>\n",
       "      <td>81.4</td>\n",
       "      <td>43851044</td>\n",
       "    </tr>\n",
       "    <tr>\n",
       "      <th>3</th>\n",
       "      <td>Angola</td>\n",
       "      <td>71.1</td>\n",
       "      <td>32866272</td>\n",
       "    </tr>\n",
       "    <tr>\n",
       "      <th>4</th>\n",
       "      <td>Australia</td>\n",
       "      <td>99.0</td>\n",
       "      <td>97929</td>\n",
       "    </tr>\n",
       "  </tbody>\n",
       "</table>\n",
       "</div>"
      ],
      "text/plain": [
       "       country  literacyRate  population\n",
       "0  Afghanistan          43.0    38928346\n",
       "1      Albania          98.1     2877797\n",
       "2      Algeria          81.4    43851044\n",
       "3       Angola          71.1    32866272\n",
       "4    Australia          99.0       97929"
      ]
     },
     "execution_count": 4,
     "metadata": {},
     "output_type": "execute_result"
    }
   ],
   "source": [
    "data1 = pd.read_csv('../data/literacy_rate_public.csv')\n",
    "print(f\"Shape of the data is: {data1.shape}\")\n",
    "data1.head()"
   ]
  },
  {
   "cell_type": "code",
   "execution_count": 5,
   "metadata": {},
   "outputs": [
    {
     "data": {
      "text/html": [
       "<div>\n",
       "<style scoped>\n",
       "    .dataframe tbody tr th:only-of-type {\n",
       "        vertical-align: middle;\n",
       "    }\n",
       "\n",
       "    .dataframe tbody tr th {\n",
       "        vertical-align: top;\n",
       "    }\n",
       "\n",
       "    .dataframe thead th {\n",
       "        text-align: right;\n",
       "    }\n",
       "</style>\n",
       "<table border=\"1\" class=\"dataframe\">\n",
       "  <thead>\n",
       "    <tr style=\"text-align: right;\">\n",
       "      <th></th>\n",
       "      <th>country</th>\n",
       "      <th>literacyRate</th>\n",
       "      <th>population</th>\n",
       "    </tr>\n",
       "  </thead>\n",
       "  <tbody>\n",
       "    <tr>\n",
       "      <th>0</th>\n",
       "      <td>Afghanistan</td>\n",
       "      <td>43.0</td>\n",
       "      <td>38928346</td>\n",
       "    </tr>\n",
       "    <tr>\n",
       "      <th>1</th>\n",
       "      <td>Albania</td>\n",
       "      <td>98.1</td>\n",
       "      <td>2877797</td>\n",
       "    </tr>\n",
       "    <tr>\n",
       "      <th>2</th>\n",
       "      <td>Algeria</td>\n",
       "      <td>81.4</td>\n",
       "      <td>43851044</td>\n",
       "    </tr>\n",
       "    <tr>\n",
       "      <th>3</th>\n",
       "      <td>Angola</td>\n",
       "      <td>71.1</td>\n",
       "      <td>32866272</td>\n",
       "    </tr>\n",
       "    <tr>\n",
       "      <th>4</th>\n",
       "      <td>Australia</td>\n",
       "      <td>99.0</td>\n",
       "      <td>97929</td>\n",
       "    </tr>\n",
       "  </tbody>\n",
       "</table>\n",
       "</div>"
      ],
      "text/plain": [
       "       country  literacyRate  population\n",
       "0  Afghanistan          43.0    38928346\n",
       "1      Albania          98.1     2877797\n",
       "2      Algeria          81.4    43851044\n",
       "3       Angola          71.1    32866272\n",
       "4    Australia          99.0       97929"
      ]
     },
     "execution_count": 5,
     "metadata": {},
     "output_type": "execute_result"
    }
   ],
   "source": [
    "data1.set_index('country')\n",
    "data1.head()"
   ]
  },
  {
   "cell_type": "code",
   "execution_count": 6,
   "metadata": {},
   "outputs": [
    {
     "name": "stdout",
     "output_type": "stream",
     "text": [
      "Shape of the data is: (88085, 9)\n"
     ]
    },
    {
     "data": {
      "text/html": [
       "<div>\n",
       "<style scoped>\n",
       "    .dataframe tbody tr th:only-of-type {\n",
       "        vertical-align: middle;\n",
       "    }\n",
       "\n",
       "    .dataframe tbody tr th {\n",
       "        vertical-align: top;\n",
       "    }\n",
       "\n",
       "    .dataframe thead th {\n",
       "        text-align: right;\n",
       "    }\n",
       "</style>\n",
       "<table border=\"1\" class=\"dataframe\">\n",
       "  <thead>\n",
       "    <tr style=\"text-align: right;\">\n",
       "      <th></th>\n",
       "      <th>country_code</th>\n",
       "      <th>country</th>\n",
       "      <th>income_group</th>\n",
       "      <th>world_region</th>\n",
       "      <th>skill_group_id</th>\n",
       "      <th>skill_group</th>\n",
       "      <th>skill</th>\n",
       "      <th>Delta</th>\n",
       "      <th>Year</th>\n",
       "    </tr>\n",
       "  </thead>\n",
       "  <tbody>\n",
       "    <tr>\n",
       "      <th>0</th>\n",
       "      <td>af</td>\n",
       "      <td>Afghanistan</td>\n",
       "      <td>Low income</td>\n",
       "      <td>South Asia</td>\n",
       "      <td>2549</td>\n",
       "      <td>Tech Skills</td>\n",
       "      <td>Information Management</td>\n",
       "      <td>-792</td>\n",
       "      <td>2015</td>\n",
       "    </tr>\n",
       "    <tr>\n",
       "      <th>1</th>\n",
       "      <td>af</td>\n",
       "      <td>Afghanistan</td>\n",
       "      <td>Low income</td>\n",
       "      <td>South Asia</td>\n",
       "      <td>2608</td>\n",
       "      <td>Business Skills</td>\n",
       "      <td>Operational Efficiency</td>\n",
       "      <td>-1610</td>\n",
       "      <td>2015</td>\n",
       "    </tr>\n",
       "    <tr>\n",
       "      <th>2</th>\n",
       "      <td>af</td>\n",
       "      <td>Afghanistan</td>\n",
       "      <td>Low income</td>\n",
       "      <td>South Asia</td>\n",
       "      <td>3806</td>\n",
       "      <td>Specialized Industry Skills</td>\n",
       "      <td>National Security</td>\n",
       "      <td>-1731</td>\n",
       "      <td>2015</td>\n",
       "    </tr>\n",
       "    <tr>\n",
       "      <th>3</th>\n",
       "      <td>af</td>\n",
       "      <td>Afghanistan</td>\n",
       "      <td>Low income</td>\n",
       "      <td>South Asia</td>\n",
       "      <td>50321</td>\n",
       "      <td>Tech Skills</td>\n",
       "      <td>Software Testing</td>\n",
       "      <td>-958</td>\n",
       "      <td>2015</td>\n",
       "    </tr>\n",
       "    <tr>\n",
       "      <th>4</th>\n",
       "      <td>af</td>\n",
       "      <td>Afghanistan</td>\n",
       "      <td>Low income</td>\n",
       "      <td>South Asia</td>\n",
       "      <td>1606</td>\n",
       "      <td>Specialized Industry Skills</td>\n",
       "      <td>Navy</td>\n",
       "      <td>-1511</td>\n",
       "      <td>2015</td>\n",
       "    </tr>\n",
       "  </tbody>\n",
       "</table>\n",
       "</div>"
      ],
      "text/plain": [
       "  country_code      country income_group world_region  skill_group_id  \\\n",
       "0           af  Afghanistan   Low income   South Asia            2549   \n",
       "1           af  Afghanistan   Low income   South Asia            2608   \n",
       "2           af  Afghanistan   Low income   South Asia            3806   \n",
       "3           af  Afghanistan   Low income   South Asia           50321   \n",
       "4           af  Afghanistan   Low income   South Asia            1606   \n",
       "\n",
       "                   skill_group                   skill  Delta  Year  \n",
       "0                  Tech Skills  Information Management   -792  2015  \n",
       "1              Business Skills  Operational Efficiency  -1610  2015  \n",
       "2  Specialized Industry Skills       National Security  -1731  2015  \n",
       "3                  Tech Skills        Software Testing   -958  2015  \n",
       "4  Specialized Industry Skills                    Navy  -1511  2015  "
      ]
     },
     "execution_count": 6,
     "metadata": {},
     "output_type": "execute_result"
    }
   ],
   "source": [
    "data2 = pd.read_csv('../data/skill_migration_public.csv')\n",
    "print(f\"Shape of the data is: {data2.shape}\")\n",
    "data2.head()"
   ]
  },
  {
   "cell_type": "code",
   "execution_count": 7,
   "metadata": {},
   "outputs": [
    {
     "data": {
      "text/html": [
       "<div>\n",
       "<style scoped>\n",
       "    .dataframe tbody tr th:only-of-type {\n",
       "        vertical-align: middle;\n",
       "    }\n",
       "\n",
       "    .dataframe tbody tr th {\n",
       "        vertical-align: top;\n",
       "    }\n",
       "\n",
       "    .dataframe thead th {\n",
       "        text-align: right;\n",
       "    }\n",
       "</style>\n",
       "<table border=\"1\" class=\"dataframe\">\n",
       "  <thead>\n",
       "    <tr style=\"text-align: right;\">\n",
       "      <th></th>\n",
       "      <th>country_code</th>\n",
       "      <th>income_group</th>\n",
       "      <th>world_region</th>\n",
       "      <th>skill_group_id</th>\n",
       "      <th>skill_group</th>\n",
       "      <th>skill</th>\n",
       "      <th>Delta</th>\n",
       "      <th>Year</th>\n",
       "    </tr>\n",
       "    <tr>\n",
       "      <th>country</th>\n",
       "      <th></th>\n",
       "      <th></th>\n",
       "      <th></th>\n",
       "      <th></th>\n",
       "      <th></th>\n",
       "      <th></th>\n",
       "      <th></th>\n",
       "      <th></th>\n",
       "    </tr>\n",
       "  </thead>\n",
       "  <tbody>\n",
       "    <tr>\n",
       "      <th>Afghanistan</th>\n",
       "      <td>af</td>\n",
       "      <td>Low income</td>\n",
       "      <td>South Asia</td>\n",
       "      <td>2549</td>\n",
       "      <td>Tech Skills</td>\n",
       "      <td>Information Management</td>\n",
       "      <td>-792</td>\n",
       "      <td>2015</td>\n",
       "    </tr>\n",
       "    <tr>\n",
       "      <th>Afghanistan</th>\n",
       "      <td>af</td>\n",
       "      <td>Low income</td>\n",
       "      <td>South Asia</td>\n",
       "      <td>2608</td>\n",
       "      <td>Business Skills</td>\n",
       "      <td>Operational Efficiency</td>\n",
       "      <td>-1610</td>\n",
       "      <td>2015</td>\n",
       "    </tr>\n",
       "    <tr>\n",
       "      <th>Afghanistan</th>\n",
       "      <td>af</td>\n",
       "      <td>Low income</td>\n",
       "      <td>South Asia</td>\n",
       "      <td>3806</td>\n",
       "      <td>Specialized Industry Skills</td>\n",
       "      <td>National Security</td>\n",
       "      <td>-1731</td>\n",
       "      <td>2015</td>\n",
       "    </tr>\n",
       "    <tr>\n",
       "      <th>Afghanistan</th>\n",
       "      <td>af</td>\n",
       "      <td>Low income</td>\n",
       "      <td>South Asia</td>\n",
       "      <td>50321</td>\n",
       "      <td>Tech Skills</td>\n",
       "      <td>Software Testing</td>\n",
       "      <td>-958</td>\n",
       "      <td>2015</td>\n",
       "    </tr>\n",
       "    <tr>\n",
       "      <th>Afghanistan</th>\n",
       "      <td>af</td>\n",
       "      <td>Low income</td>\n",
       "      <td>South Asia</td>\n",
       "      <td>1606</td>\n",
       "      <td>Specialized Industry Skills</td>\n",
       "      <td>Navy</td>\n",
       "      <td>-1511</td>\n",
       "      <td>2015</td>\n",
       "    </tr>\n",
       "    <tr>\n",
       "      <th>...</th>\n",
       "      <td>...</td>\n",
       "      <td>...</td>\n",
       "      <td>...</td>\n",
       "      <td>...</td>\n",
       "      <td>...</td>\n",
       "      <td>...</td>\n",
       "      <td>...</td>\n",
       "      <td>...</td>\n",
       "    </tr>\n",
       "    <tr>\n",
       "      <th>Zimbabwe</th>\n",
       "      <td>zw</td>\n",
       "      <td>Low income</td>\n",
       "      <td>Sub-Saharan Africa</td>\n",
       "      <td>12666</td>\n",
       "      <td>Specialized Industry Skills</td>\n",
       "      <td>Teaching</td>\n",
       "      <td>-94</td>\n",
       "      <td>2019</td>\n",
       "    </tr>\n",
       "    <tr>\n",
       "      <th>Zimbabwe</th>\n",
       "      <td>zw</td>\n",
       "      <td>Low income</td>\n",
       "      <td>Sub-Saharan Africa</td>\n",
       "      <td>1235</td>\n",
       "      <td>Specialized Industry Skills</td>\n",
       "      <td>Mining</td>\n",
       "      <td>-93</td>\n",
       "      <td>2019</td>\n",
       "    </tr>\n",
       "    <tr>\n",
       "      <th>Zimbabwe</th>\n",
       "      <td>zw</td>\n",
       "      <td>Low income</td>\n",
       "      <td>Sub-Saharan Africa</td>\n",
       "      <td>43756</td>\n",
       "      <td>Specialized Industry Skills</td>\n",
       "      <td>Personal Coaching</td>\n",
       "      <td>-82</td>\n",
       "      <td>2019</td>\n",
       "    </tr>\n",
       "    <tr>\n",
       "      <th>Zimbabwe</th>\n",
       "      <td>zw</td>\n",
       "      <td>Low income</td>\n",
       "      <td>Sub-Saharan Africa</td>\n",
       "      <td>1724</td>\n",
       "      <td>Specialized Industry Skills</td>\n",
       "      <td>Public Health</td>\n",
       "      <td>-32</td>\n",
       "      <td>2019</td>\n",
       "    </tr>\n",
       "    <tr>\n",
       "      <th>Zimbabwe</th>\n",
       "      <td>zw</td>\n",
       "      <td>Low income</td>\n",
       "      <td>Sub-Saharan Africa</td>\n",
       "      <td>172</td>\n",
       "      <td>Specialized Industry Skills</td>\n",
       "      <td>Law</td>\n",
       "      <td>-26</td>\n",
       "      <td>2019</td>\n",
       "    </tr>\n",
       "  </tbody>\n",
       "</table>\n",
       "<p>88085 rows × 8 columns</p>\n",
       "</div>"
      ],
      "text/plain": [
       "            country_code income_group         world_region  skill_group_id  \\\n",
       "country                                                                      \n",
       "Afghanistan           af   Low income           South Asia            2549   \n",
       "Afghanistan           af   Low income           South Asia            2608   \n",
       "Afghanistan           af   Low income           South Asia            3806   \n",
       "Afghanistan           af   Low income           South Asia           50321   \n",
       "Afghanistan           af   Low income           South Asia            1606   \n",
       "...                  ...          ...                  ...             ...   \n",
       "Zimbabwe              zw   Low income  Sub-Saharan Africa            12666   \n",
       "Zimbabwe              zw   Low income  Sub-Saharan Africa             1235   \n",
       "Zimbabwe              zw   Low income  Sub-Saharan Africa            43756   \n",
       "Zimbabwe              zw   Low income  Sub-Saharan Africa             1724   \n",
       "Zimbabwe              zw   Low income  Sub-Saharan Africa              172   \n",
       "\n",
       "                             skill_group                   skill  Delta  Year  \n",
       "country                                                                        \n",
       "Afghanistan                  Tech Skills  Information Management   -792  2015  \n",
       "Afghanistan              Business Skills  Operational Efficiency  -1610  2015  \n",
       "Afghanistan  Specialized Industry Skills       National Security  -1731  2015  \n",
       "Afghanistan                  Tech Skills        Software Testing   -958  2015  \n",
       "Afghanistan  Specialized Industry Skills                    Navy  -1511  2015  \n",
       "...                                  ...                     ...    ...   ...  \n",
       "Zimbabwe     Specialized Industry Skills                Teaching    -94  2019  \n",
       "Zimbabwe     Specialized Industry Skills                  Mining    -93  2019  \n",
       "Zimbabwe     Specialized Industry Skills       Personal Coaching    -82  2019  \n",
       "Zimbabwe     Specialized Industry Skills           Public Health    -32  2019  \n",
       "Zimbabwe     Specialized Industry Skills                     Law    -26  2019  \n",
       "\n",
       "[88085 rows x 8 columns]"
      ]
     },
     "execution_count": 7,
     "metadata": {},
     "output_type": "execute_result"
    }
   ],
   "source": [
    "data2.set_index('country')"
   ]
  },
  {
   "cell_type": "code",
   "execution_count": 8,
   "metadata": {},
   "outputs": [
    {
     "name": "stdout",
     "output_type": "stream",
     "text": [
      "Shape of the data is: (88085, 9)\n"
     ]
    },
    {
     "data": {
      "text/html": [
       "<div>\n",
       "<style scoped>\n",
       "    .dataframe tbody tr th:only-of-type {\n",
       "        vertical-align: middle;\n",
       "    }\n",
       "\n",
       "    .dataframe tbody tr th {\n",
       "        vertical-align: top;\n",
       "    }\n",
       "\n",
       "    .dataframe thead th {\n",
       "        text-align: right;\n",
       "    }\n",
       "</style>\n",
       "<table border=\"1\" class=\"dataframe\">\n",
       "  <thead>\n",
       "    <tr style=\"text-align: right;\">\n",
       "      <th></th>\n",
       "      <th>rank</th>\n",
       "      <th>country</th>\n",
       "      <th>gdpPerCapita</th>\n",
       "    </tr>\n",
       "  </thead>\n",
       "  <tbody>\n",
       "    <tr>\n",
       "      <th>0</th>\n",
       "      <td>1</td>\n",
       "      <td>United States</td>\n",
       "      <td>67063.2695</td>\n",
       "    </tr>\n",
       "    <tr>\n",
       "      <th>1</th>\n",
       "      <td>2</td>\n",
       "      <td>China</td>\n",
       "      <td>10746.7828</td>\n",
       "    </tr>\n",
       "    <tr>\n",
       "      <th>2</th>\n",
       "      <td>3</td>\n",
       "      <td>Japan</td>\n",
       "      <td>43450.1405</td>\n",
       "    </tr>\n",
       "    <tr>\n",
       "      <th>3</th>\n",
       "      <td>4</td>\n",
       "      <td>Germany</td>\n",
       "      <td>49617.1450</td>\n",
       "    </tr>\n",
       "    <tr>\n",
       "      <th>4</th>\n",
       "      <td>5</td>\n",
       "      <td>India</td>\n",
       "      <td>2360.6592</td>\n",
       "    </tr>\n",
       "  </tbody>\n",
       "</table>\n",
       "</div>"
      ],
      "text/plain": [
       "   rank        country  gdpPerCapita\n",
       "0     1  United States    67063.2695\n",
       "1     2          China    10746.7828\n",
       "2     3          Japan    43450.1405\n",
       "3     4        Germany    49617.1450\n",
       "4     5          India     2360.6592"
      ]
     },
     "execution_count": 8,
     "metadata": {},
     "output_type": "execute_result"
    }
   ],
   "source": [
    "data3 = pd.read_csv('../data/gdp_public.csv')\n",
    "print(f\"Shape of the data is: {data2.shape}\")\n",
    "data3.head()"
   ]
  },
  {
   "cell_type": "code",
   "execution_count": 9,
   "metadata": {},
   "outputs": [
    {
     "data": {
      "text/html": [
       "<div>\n",
       "<style scoped>\n",
       "    .dataframe tbody tr th:only-of-type {\n",
       "        vertical-align: middle;\n",
       "    }\n",
       "\n",
       "    .dataframe tbody tr th {\n",
       "        vertical-align: top;\n",
       "    }\n",
       "\n",
       "    .dataframe thead th {\n",
       "        text-align: right;\n",
       "    }\n",
       "</style>\n",
       "<table border=\"1\" class=\"dataframe\">\n",
       "  <thead>\n",
       "    <tr style=\"text-align: right;\">\n",
       "      <th></th>\n",
       "      <th>country_code</th>\n",
       "      <th>country</th>\n",
       "      <th>income_group</th>\n",
       "      <th>world_region</th>\n",
       "      <th>skill_group_id</th>\n",
       "      <th>skill_group</th>\n",
       "      <th>skill</th>\n",
       "      <th>Delta</th>\n",
       "      <th>Year</th>\n",
       "      <th>literacyRate</th>\n",
       "      <th>population</th>\n",
       "    </tr>\n",
       "  </thead>\n",
       "  <tbody>\n",
       "    <tr>\n",
       "      <th>0</th>\n",
       "      <td>af</td>\n",
       "      <td>Afghanistan</td>\n",
       "      <td>Low income</td>\n",
       "      <td>South Asia</td>\n",
       "      <td>2549</td>\n",
       "      <td>Tech Skills</td>\n",
       "      <td>Information Management</td>\n",
       "      <td>-792</td>\n",
       "      <td>2015</td>\n",
       "      <td>43.0</td>\n",
       "      <td>38928346</td>\n",
       "    </tr>\n",
       "    <tr>\n",
       "      <th>1</th>\n",
       "      <td>af</td>\n",
       "      <td>Afghanistan</td>\n",
       "      <td>Low income</td>\n",
       "      <td>South Asia</td>\n",
       "      <td>2608</td>\n",
       "      <td>Business Skills</td>\n",
       "      <td>Operational Efficiency</td>\n",
       "      <td>-1610</td>\n",
       "      <td>2015</td>\n",
       "      <td>43.0</td>\n",
       "      <td>38928346</td>\n",
       "    </tr>\n",
       "    <tr>\n",
       "      <th>2</th>\n",
       "      <td>af</td>\n",
       "      <td>Afghanistan</td>\n",
       "      <td>Low income</td>\n",
       "      <td>South Asia</td>\n",
       "      <td>3806</td>\n",
       "      <td>Specialized Industry Skills</td>\n",
       "      <td>National Security</td>\n",
       "      <td>-1731</td>\n",
       "      <td>2015</td>\n",
       "      <td>43.0</td>\n",
       "      <td>38928346</td>\n",
       "    </tr>\n",
       "    <tr>\n",
       "      <th>3</th>\n",
       "      <td>af</td>\n",
       "      <td>Afghanistan</td>\n",
       "      <td>Low income</td>\n",
       "      <td>South Asia</td>\n",
       "      <td>50321</td>\n",
       "      <td>Tech Skills</td>\n",
       "      <td>Software Testing</td>\n",
       "      <td>-958</td>\n",
       "      <td>2015</td>\n",
       "      <td>43.0</td>\n",
       "      <td>38928346</td>\n",
       "    </tr>\n",
       "    <tr>\n",
       "      <th>4</th>\n",
       "      <td>af</td>\n",
       "      <td>Afghanistan</td>\n",
       "      <td>Low income</td>\n",
       "      <td>South Asia</td>\n",
       "      <td>1606</td>\n",
       "      <td>Specialized Industry Skills</td>\n",
       "      <td>Navy</td>\n",
       "      <td>-1511</td>\n",
       "      <td>2015</td>\n",
       "      <td>43.0</td>\n",
       "      <td>38928346</td>\n",
       "    </tr>\n",
       "    <tr>\n",
       "      <th>...</th>\n",
       "      <td>...</td>\n",
       "      <td>...</td>\n",
       "      <td>...</td>\n",
       "      <td>...</td>\n",
       "      <td>...</td>\n",
       "      <td>...</td>\n",
       "      <td>...</td>\n",
       "      <td>...</td>\n",
       "      <td>...</td>\n",
       "      <td>...</td>\n",
       "      <td>...</td>\n",
       "    </tr>\n",
       "    <tr>\n",
       "      <th>86560</th>\n",
       "      <td>zw</td>\n",
       "      <td>Zimbabwe</td>\n",
       "      <td>Low income</td>\n",
       "      <td>Sub-Saharan Africa</td>\n",
       "      <td>12666</td>\n",
       "      <td>Specialized Industry Skills</td>\n",
       "      <td>Teaching</td>\n",
       "      <td>-94</td>\n",
       "      <td>2019</td>\n",
       "      <td>86.5</td>\n",
       "      <td>14862924</td>\n",
       "    </tr>\n",
       "    <tr>\n",
       "      <th>86561</th>\n",
       "      <td>zw</td>\n",
       "      <td>Zimbabwe</td>\n",
       "      <td>Low income</td>\n",
       "      <td>Sub-Saharan Africa</td>\n",
       "      <td>1235</td>\n",
       "      <td>Specialized Industry Skills</td>\n",
       "      <td>Mining</td>\n",
       "      <td>-93</td>\n",
       "      <td>2019</td>\n",
       "      <td>86.5</td>\n",
       "      <td>14862924</td>\n",
       "    </tr>\n",
       "    <tr>\n",
       "      <th>86562</th>\n",
       "      <td>zw</td>\n",
       "      <td>Zimbabwe</td>\n",
       "      <td>Low income</td>\n",
       "      <td>Sub-Saharan Africa</td>\n",
       "      <td>43756</td>\n",
       "      <td>Specialized Industry Skills</td>\n",
       "      <td>Personal Coaching</td>\n",
       "      <td>-82</td>\n",
       "      <td>2019</td>\n",
       "      <td>86.5</td>\n",
       "      <td>14862924</td>\n",
       "    </tr>\n",
       "    <tr>\n",
       "      <th>86563</th>\n",
       "      <td>zw</td>\n",
       "      <td>Zimbabwe</td>\n",
       "      <td>Low income</td>\n",
       "      <td>Sub-Saharan Africa</td>\n",
       "      <td>1724</td>\n",
       "      <td>Specialized Industry Skills</td>\n",
       "      <td>Public Health</td>\n",
       "      <td>-32</td>\n",
       "      <td>2019</td>\n",
       "      <td>86.5</td>\n",
       "      <td>14862924</td>\n",
       "    </tr>\n",
       "    <tr>\n",
       "      <th>86564</th>\n",
       "      <td>zw</td>\n",
       "      <td>Zimbabwe</td>\n",
       "      <td>Low income</td>\n",
       "      <td>Sub-Saharan Africa</td>\n",
       "      <td>172</td>\n",
       "      <td>Specialized Industry Skills</td>\n",
       "      <td>Law</td>\n",
       "      <td>-26</td>\n",
       "      <td>2019</td>\n",
       "      <td>86.5</td>\n",
       "      <td>14862924</td>\n",
       "    </tr>\n",
       "  </tbody>\n",
       "</table>\n",
       "<p>86565 rows × 11 columns</p>\n",
       "</div>"
      ],
      "text/plain": [
       "      country_code      country income_group         world_region  \\\n",
       "0               af  Afghanistan   Low income           South Asia   \n",
       "1               af  Afghanistan   Low income           South Asia   \n",
       "2               af  Afghanistan   Low income           South Asia   \n",
       "3               af  Afghanistan   Low income           South Asia   \n",
       "4               af  Afghanistan   Low income           South Asia   \n",
       "...            ...          ...          ...                  ...   \n",
       "86560           zw     Zimbabwe   Low income  Sub-Saharan Africa    \n",
       "86561           zw     Zimbabwe   Low income  Sub-Saharan Africa    \n",
       "86562           zw     Zimbabwe   Low income  Sub-Saharan Africa    \n",
       "86563           zw     Zimbabwe   Low income  Sub-Saharan Africa    \n",
       "86564           zw     Zimbabwe   Low income  Sub-Saharan Africa    \n",
       "\n",
       "       skill_group_id                  skill_group                   skill  \\\n",
       "0                2549                  Tech Skills  Information Management   \n",
       "1                2608              Business Skills  Operational Efficiency   \n",
       "2                3806  Specialized Industry Skills       National Security   \n",
       "3               50321                  Tech Skills        Software Testing   \n",
       "4                1606  Specialized Industry Skills                    Navy   \n",
       "...               ...                          ...                     ...   \n",
       "86560           12666  Specialized Industry Skills                Teaching   \n",
       "86561            1235  Specialized Industry Skills                  Mining   \n",
       "86562           43756  Specialized Industry Skills       Personal Coaching   \n",
       "86563            1724  Specialized Industry Skills           Public Health   \n",
       "86564             172  Specialized Industry Skills                     Law   \n",
       "\n",
       "       Delta  Year  literacyRate  population  \n",
       "0       -792  2015          43.0    38928346  \n",
       "1      -1610  2015          43.0    38928346  \n",
       "2      -1731  2015          43.0    38928346  \n",
       "3       -958  2015          43.0    38928346  \n",
       "4      -1511  2015          43.0    38928346  \n",
       "...      ...   ...           ...         ...  \n",
       "86560    -94  2019          86.5    14862924  \n",
       "86561    -93  2019          86.5    14862924  \n",
       "86562    -82  2019          86.5    14862924  \n",
       "86563    -32  2019          86.5    14862924  \n",
       "86564    -26  2019          86.5    14862924  \n",
       "\n",
       "[86565 rows x 11 columns]"
      ]
     },
     "execution_count": 9,
     "metadata": {},
     "output_type": "execute_result"
    }
   ],
   "source": [
    "combined_data1 = pd.merge(data2, data1, on='country', how='inner')\n",
    "combined_data1"
   ]
  },
  {
   "cell_type": "code",
   "execution_count": 10,
   "metadata": {},
   "outputs": [
    {
     "data": {
      "text/html": [
       "<div>\n",
       "<style scoped>\n",
       "    .dataframe tbody tr th:only-of-type {\n",
       "        vertical-align: middle;\n",
       "    }\n",
       "\n",
       "    .dataframe tbody tr th {\n",
       "        vertical-align: top;\n",
       "    }\n",
       "\n",
       "    .dataframe thead th {\n",
       "        text-align: right;\n",
       "    }\n",
       "</style>\n",
       "<table border=\"1\" class=\"dataframe\">\n",
       "  <thead>\n",
       "    <tr style=\"text-align: right;\">\n",
       "      <th></th>\n",
       "      <th>country_code</th>\n",
       "      <th>country</th>\n",
       "      <th>income_group</th>\n",
       "      <th>world_region</th>\n",
       "      <th>skill_group_id</th>\n",
       "      <th>skill_group</th>\n",
       "      <th>skill</th>\n",
       "      <th>Delta</th>\n",
       "      <th>Year</th>\n",
       "      <th>literacyRate</th>\n",
       "      <th>population</th>\n",
       "      <th>rank</th>\n",
       "      <th>gdpPerCapita</th>\n",
       "    </tr>\n",
       "  </thead>\n",
       "  <tbody>\n",
       "    <tr>\n",
       "      <th>0</th>\n",
       "      <td>af</td>\n",
       "      <td>Afghanistan</td>\n",
       "      <td>Low income</td>\n",
       "      <td>South Asia</td>\n",
       "      <td>2549</td>\n",
       "      <td>Tech Skills</td>\n",
       "      <td>Information Management</td>\n",
       "      <td>-792</td>\n",
       "      <td>2015</td>\n",
       "      <td>43.0</td>\n",
       "      <td>38928346</td>\n",
       "      <td>116</td>\n",
       "      <td>531.2838</td>\n",
       "    </tr>\n",
       "    <tr>\n",
       "      <th>1</th>\n",
       "      <td>af</td>\n",
       "      <td>Afghanistan</td>\n",
       "      <td>Low income</td>\n",
       "      <td>South Asia</td>\n",
       "      <td>2608</td>\n",
       "      <td>Business Skills</td>\n",
       "      <td>Operational Efficiency</td>\n",
       "      <td>-1610</td>\n",
       "      <td>2015</td>\n",
       "      <td>43.0</td>\n",
       "      <td>38928346</td>\n",
       "      <td>116</td>\n",
       "      <td>531.2838</td>\n",
       "    </tr>\n",
       "    <tr>\n",
       "      <th>2</th>\n",
       "      <td>af</td>\n",
       "      <td>Afghanistan</td>\n",
       "      <td>Low income</td>\n",
       "      <td>South Asia</td>\n",
       "      <td>3806</td>\n",
       "      <td>Specialized Industry Skills</td>\n",
       "      <td>National Security</td>\n",
       "      <td>-1731</td>\n",
       "      <td>2015</td>\n",
       "      <td>43.0</td>\n",
       "      <td>38928346</td>\n",
       "      <td>116</td>\n",
       "      <td>531.2838</td>\n",
       "    </tr>\n",
       "    <tr>\n",
       "      <th>3</th>\n",
       "      <td>af</td>\n",
       "      <td>Afghanistan</td>\n",
       "      <td>Low income</td>\n",
       "      <td>South Asia</td>\n",
       "      <td>50321</td>\n",
       "      <td>Tech Skills</td>\n",
       "      <td>Software Testing</td>\n",
       "      <td>-958</td>\n",
       "      <td>2015</td>\n",
       "      <td>43.0</td>\n",
       "      <td>38928346</td>\n",
       "      <td>116</td>\n",
       "      <td>531.2838</td>\n",
       "    </tr>\n",
       "    <tr>\n",
       "      <th>4</th>\n",
       "      <td>af</td>\n",
       "      <td>Afghanistan</td>\n",
       "      <td>Low income</td>\n",
       "      <td>South Asia</td>\n",
       "      <td>1606</td>\n",
       "      <td>Specialized Industry Skills</td>\n",
       "      <td>Navy</td>\n",
       "      <td>-1511</td>\n",
       "      <td>2015</td>\n",
       "      <td>43.0</td>\n",
       "      <td>38928346</td>\n",
       "      <td>116</td>\n",
       "      <td>531.2838</td>\n",
       "    </tr>\n",
       "    <tr>\n",
       "      <th>...</th>\n",
       "      <td>...</td>\n",
       "      <td>...</td>\n",
       "      <td>...</td>\n",
       "      <td>...</td>\n",
       "      <td>...</td>\n",
       "      <td>...</td>\n",
       "      <td>...</td>\n",
       "      <td>...</td>\n",
       "      <td>...</td>\n",
       "      <td>...</td>\n",
       "      <td>...</td>\n",
       "      <td>...</td>\n",
       "      <td>...</td>\n",
       "    </tr>\n",
       "    <tr>\n",
       "      <th>84195</th>\n",
       "      <td>zw</td>\n",
       "      <td>Zimbabwe</td>\n",
       "      <td>Low income</td>\n",
       "      <td>Sub-Saharan Africa</td>\n",
       "      <td>12666</td>\n",
       "      <td>Specialized Industry Skills</td>\n",
       "      <td>Teaching</td>\n",
       "      <td>-94</td>\n",
       "      <td>2019</td>\n",
       "      <td>86.5</td>\n",
       "      <td>14862924</td>\n",
       "      <td>108</td>\n",
       "      <td>1736.6704</td>\n",
       "    </tr>\n",
       "    <tr>\n",
       "      <th>84196</th>\n",
       "      <td>zw</td>\n",
       "      <td>Zimbabwe</td>\n",
       "      <td>Low income</td>\n",
       "      <td>Sub-Saharan Africa</td>\n",
       "      <td>1235</td>\n",
       "      <td>Specialized Industry Skills</td>\n",
       "      <td>Mining</td>\n",
       "      <td>-93</td>\n",
       "      <td>2019</td>\n",
       "      <td>86.5</td>\n",
       "      <td>14862924</td>\n",
       "      <td>108</td>\n",
       "      <td>1736.6704</td>\n",
       "    </tr>\n",
       "    <tr>\n",
       "      <th>84197</th>\n",
       "      <td>zw</td>\n",
       "      <td>Zimbabwe</td>\n",
       "      <td>Low income</td>\n",
       "      <td>Sub-Saharan Africa</td>\n",
       "      <td>43756</td>\n",
       "      <td>Specialized Industry Skills</td>\n",
       "      <td>Personal Coaching</td>\n",
       "      <td>-82</td>\n",
       "      <td>2019</td>\n",
       "      <td>86.5</td>\n",
       "      <td>14862924</td>\n",
       "      <td>108</td>\n",
       "      <td>1736.6704</td>\n",
       "    </tr>\n",
       "    <tr>\n",
       "      <th>84198</th>\n",
       "      <td>zw</td>\n",
       "      <td>Zimbabwe</td>\n",
       "      <td>Low income</td>\n",
       "      <td>Sub-Saharan Africa</td>\n",
       "      <td>1724</td>\n",
       "      <td>Specialized Industry Skills</td>\n",
       "      <td>Public Health</td>\n",
       "      <td>-32</td>\n",
       "      <td>2019</td>\n",
       "      <td>86.5</td>\n",
       "      <td>14862924</td>\n",
       "      <td>108</td>\n",
       "      <td>1736.6704</td>\n",
       "    </tr>\n",
       "    <tr>\n",
       "      <th>84199</th>\n",
       "      <td>zw</td>\n",
       "      <td>Zimbabwe</td>\n",
       "      <td>Low income</td>\n",
       "      <td>Sub-Saharan Africa</td>\n",
       "      <td>172</td>\n",
       "      <td>Specialized Industry Skills</td>\n",
       "      <td>Law</td>\n",
       "      <td>-26</td>\n",
       "      <td>2019</td>\n",
       "      <td>86.5</td>\n",
       "      <td>14862924</td>\n",
       "      <td>108</td>\n",
       "      <td>1736.6704</td>\n",
       "    </tr>\n",
       "  </tbody>\n",
       "</table>\n",
       "<p>84200 rows × 13 columns</p>\n",
       "</div>"
      ],
      "text/plain": [
       "      country_code      country income_group         world_region  \\\n",
       "0               af  Afghanistan   Low income           South Asia   \n",
       "1               af  Afghanistan   Low income           South Asia   \n",
       "2               af  Afghanistan   Low income           South Asia   \n",
       "3               af  Afghanistan   Low income           South Asia   \n",
       "4               af  Afghanistan   Low income           South Asia   \n",
       "...            ...          ...          ...                  ...   \n",
       "84195           zw     Zimbabwe   Low income  Sub-Saharan Africa    \n",
       "84196           zw     Zimbabwe   Low income  Sub-Saharan Africa    \n",
       "84197           zw     Zimbabwe   Low income  Sub-Saharan Africa    \n",
       "84198           zw     Zimbabwe   Low income  Sub-Saharan Africa    \n",
       "84199           zw     Zimbabwe   Low income  Sub-Saharan Africa    \n",
       "\n",
       "       skill_group_id                  skill_group                   skill  \\\n",
       "0                2549                  Tech Skills  Information Management   \n",
       "1                2608              Business Skills  Operational Efficiency   \n",
       "2                3806  Specialized Industry Skills       National Security   \n",
       "3               50321                  Tech Skills        Software Testing   \n",
       "4                1606  Specialized Industry Skills                    Navy   \n",
       "...               ...                          ...                     ...   \n",
       "84195           12666  Specialized Industry Skills                Teaching   \n",
       "84196            1235  Specialized Industry Skills                  Mining   \n",
       "84197           43756  Specialized Industry Skills       Personal Coaching   \n",
       "84198            1724  Specialized Industry Skills           Public Health   \n",
       "84199             172  Specialized Industry Skills                     Law   \n",
       "\n",
       "       Delta  Year  literacyRate  population  rank  gdpPerCapita  \n",
       "0       -792  2015          43.0    38928346   116      531.2838  \n",
       "1      -1610  2015          43.0    38928346   116      531.2838  \n",
       "2      -1731  2015          43.0    38928346   116      531.2838  \n",
       "3       -958  2015          43.0    38928346   116      531.2838  \n",
       "4      -1511  2015          43.0    38928346   116      531.2838  \n",
       "...      ...   ...           ...         ...   ...           ...  \n",
       "84195    -94  2019          86.5    14862924   108     1736.6704  \n",
       "84196    -93  2019          86.5    14862924   108     1736.6704  \n",
       "84197    -82  2019          86.5    14862924   108     1736.6704  \n",
       "84198    -32  2019          86.5    14862924   108     1736.6704  \n",
       "84199    -26  2019          86.5    14862924   108     1736.6704  \n",
       "\n",
       "[84200 rows x 13 columns]"
      ]
     },
     "execution_count": 10,
     "metadata": {},
     "output_type": "execute_result"
    }
   ],
   "source": [
    "combined_data = pd.merge(combined_data1, data3, on='country', how='inner')\n",
    "combined_data"
   ]
  },
  {
   "cell_type": "code",
   "execution_count": 11,
   "metadata": {},
   "outputs": [
    {
     "data": {
      "text/plain": [
       "country_code       object\n",
       "country            object\n",
       "income_group       object\n",
       "world_region       object\n",
       "skill_group_id      int64\n",
       "skill_group        object\n",
       "skill              object\n",
       "Delta               int64\n",
       "Year                int64\n",
       "literacyRate      float64\n",
       "population          int64\n",
       "rank                int64\n",
       "gdpPerCapita      float64\n",
       "dtype: object"
      ]
     },
     "execution_count": 11,
     "metadata": {},
     "output_type": "execute_result"
    }
   ],
   "source": [
    "combined_data.dtypes"
   ]
  },
  {
   "cell_type": "code",
   "execution_count": 12,
   "metadata": {},
   "outputs": [
    {
     "data": {
      "text/html": [
       "<div>\n",
       "<style scoped>\n",
       "    .dataframe tbody tr th:only-of-type {\n",
       "        vertical-align: middle;\n",
       "    }\n",
       "\n",
       "    .dataframe tbody tr th {\n",
       "        vertical-align: top;\n",
       "    }\n",
       "\n",
       "    .dataframe thead th {\n",
       "        text-align: right;\n",
       "    }\n",
       "</style>\n",
       "<table border=\"1\" class=\"dataframe\">\n",
       "  <thead>\n",
       "    <tr style=\"text-align: right;\">\n",
       "      <th></th>\n",
       "      <th>country_code</th>\n",
       "      <th>country</th>\n",
       "      <th>income_group</th>\n",
       "      <th>world_region</th>\n",
       "      <th>skill_group_id</th>\n",
       "      <th>skill_group</th>\n",
       "      <th>skill</th>\n",
       "      <th>Delta</th>\n",
       "      <th>Year</th>\n",
       "      <th>literacyRate</th>\n",
       "      <th>population</th>\n",
       "      <th>rank</th>\n",
       "      <th>gdpPerCapita</th>\n",
       "    </tr>\n",
       "  </thead>\n",
       "  <tbody>\n",
       "  </tbody>\n",
       "</table>\n",
       "</div>"
      ],
      "text/plain": [
       "Empty DataFrame\n",
       "Columns: [country_code, country, income_group, world_region, skill_group_id, skill_group, skill, Delta, Year, literacyRate, population, rank, gdpPerCapita]\n",
       "Index: []"
      ]
     },
     "execution_count": 12,
     "metadata": {},
     "output_type": "execute_result"
    }
   ],
   "source": [
    "combined_data[combined_data['population'].isnull()==True]"
   ]
  },
  {
   "cell_type": "code",
   "execution_count": 13,
   "metadata": {},
   "outputs": [
    {
     "data": {
      "text/plain": [
       "country_code       object\n",
       "country            object\n",
       "income_group       object\n",
       "world_region       object\n",
       "skill_group_id      int64\n",
       "skill_group        object\n",
       "skill              object\n",
       "Delta               int64\n",
       "Year                int64\n",
       "literacyRate      float64\n",
       "population          int64\n",
       "rank                int64\n",
       "gdpPerCapita      float64\n",
       "dtype: object"
      ]
     },
     "execution_count": 13,
     "metadata": {},
     "output_type": "execute_result"
    }
   ],
   "source": [
    "combined_data.dtypes"
   ]
  },
  {
   "cell_type": "code",
   "execution_count": 14,
   "metadata": {},
   "outputs": [
    {
     "data": {
      "text/plain": [
       "13"
      ]
     },
     "execution_count": 14,
     "metadata": {},
     "output_type": "execute_result"
    }
   ],
   "source": [
    "len(combined_data.columns)"
   ]
  },
  {
   "cell_type": "code",
   "execution_count": 15,
   "metadata": {},
   "outputs": [
    {
     "data": {
      "text/plain": [
       "country_code      0\n",
       "country           0\n",
       "income_group      0\n",
       "world_region      0\n",
       "skill_group_id    0\n",
       "skill_group       0\n",
       "skill             0\n",
       "Delta             0\n",
       "Year              0\n",
       "literacyRate      0\n",
       "population        0\n",
       "rank              0\n",
       "gdpPerCapita      0\n",
       "dtype: int64"
      ]
     },
     "execution_count": 15,
     "metadata": {},
     "output_type": "execute_result"
    }
   ],
   "source": [
    "combined_data.isnull().sum()"
   ]
  },
  {
   "cell_type": "code",
   "execution_count": 16,
   "metadata": {},
   "outputs": [],
   "source": [
    "### Encoding Values for 'Skill Groups', 'Year' and 'Country'"
   ]
  },
  {
   "cell_type": "code",
   "execution_count": 17,
   "metadata": {},
   "outputs": [
    {
     "data": {
      "text/plain": [
       "country_code       object\n",
       "country            object\n",
       "income_group       object\n",
       "world_region       object\n",
       "skill_group_id      int64\n",
       "skill_group        object\n",
       "skill              object\n",
       "Delta               int64\n",
       "Year                int64\n",
       "literacyRate      float64\n",
       "population          int64\n",
       "rank                int64\n",
       "gdpPerCapita      float64\n",
       "dtype: object"
      ]
     },
     "execution_count": 17,
     "metadata": {},
     "output_type": "execute_result"
    }
   ],
   "source": [
    "combined_data.dtypes"
   ]
  },
  {
   "cell_type": "code",
   "execution_count": 119,
   "metadata": {},
   "outputs": [],
   "source": [
    "combined_data['delta_status'] = combined_data.apply(lambda x: 1 if x['Delta']> 0 else 0, axis=1)\n",
    "\n",
    "income_values = {'Upper middle income': 4, 'Lower middle income': 3, 'Low income': 2, 'High income': 1}\n",
    "#combined_data.replace({'income_group': income_values}, inplace=True)\n",
    "\n",
    "X1=combined_data.copy()[['population', 'literacyRate','rank', 'gdpPerCapita', 'delta_status', 'Year', 'income_group']]\n",
    "X1=X1.drop_duplicates(X1.columns)"
   ]
  },
  {
   "cell_type": "code",
   "execution_count": 120,
   "metadata": {},
   "outputs": [
    {
     "name": "stdout",
     "output_type": "stream",
     "text": [
      "(1210, 6) (1210, 1)\n"
     ]
    }
   ],
   "source": [
    "X = X1.drop(['delta_status'], axis=1)\n",
    "y = X1[\"delta_status\"].values.reshape(-1,1)\n",
    "print(X.shape, y.shape)"
   ]
  },
  {
   "cell_type": "code",
   "execution_count": 121,
   "metadata": {},
   "outputs": [],
   "source": [
    "###########   Choose Skill to Train "
   ]
  },
  {
   "cell_type": "code",
   "execution_count": 128,
   "metadata": {},
   "outputs": [
    {
     "data": {
      "text/html": [
       "<div>\n",
       "<style scoped>\n",
       "    .dataframe tbody tr th:only-of-type {\n",
       "        vertical-align: middle;\n",
       "    }\n",
       "\n",
       "    .dataframe tbody tr th {\n",
       "        vertical-align: top;\n",
       "    }\n",
       "\n",
       "    .dataframe thead th {\n",
       "        text-align: right;\n",
       "    }\n",
       "</style>\n",
       "<table border=\"1\" class=\"dataframe\">\n",
       "  <thead>\n",
       "    <tr style=\"text-align: right;\">\n",
       "      <th></th>\n",
       "      <th>population</th>\n",
       "      <th>literacyRate</th>\n",
       "      <th>rank</th>\n",
       "      <th>gdpPerCapita</th>\n",
       "      <th>delta_status</th>\n",
       "      <th>Year</th>\n",
       "      <th>income_group</th>\n",
       "    </tr>\n",
       "  </thead>\n",
       "  <tbody>\n",
       "    <tr>\n",
       "      <th>population</th>\n",
       "      <td>1.000000</td>\n",
       "      <td>-0.042236</td>\n",
       "      <td>-0.253873</td>\n",
       "      <td>-0.094137</td>\n",
       "      <td>-0.011971</td>\n",
       "      <td>-0.012560</td>\n",
       "      <td>0.161100</td>\n",
       "    </tr>\n",
       "    <tr>\n",
       "      <th>literacyRate</th>\n",
       "      <td>-0.042236</td>\n",
       "      <td>1.000000</td>\n",
       "      <td>-0.365142</td>\n",
       "      <td>0.334413</td>\n",
       "      <td>0.017617</td>\n",
       "      <td>0.014223</td>\n",
       "      <td>-0.112283</td>\n",
       "    </tr>\n",
       "    <tr>\n",
       "      <th>rank</th>\n",
       "      <td>-0.253873</td>\n",
       "      <td>-0.365142</td>\n",
       "      <td>1.000000</td>\n",
       "      <td>-0.448404</td>\n",
       "      <td>-0.054377</td>\n",
       "      <td>0.012087</td>\n",
       "      <td>0.229718</td>\n",
       "    </tr>\n",
       "    <tr>\n",
       "      <th>gdpPerCapita</th>\n",
       "      <td>-0.094137</td>\n",
       "      <td>0.334413</td>\n",
       "      <td>-0.448404</td>\n",
       "      <td>1.000000</td>\n",
       "      <td>0.067930</td>\n",
       "      <td>-0.004781</td>\n",
       "      <td>-0.631624</td>\n",
       "    </tr>\n",
       "    <tr>\n",
       "      <th>delta_status</th>\n",
       "      <td>-0.011971</td>\n",
       "      <td>0.017617</td>\n",
       "      <td>-0.054377</td>\n",
       "      <td>0.067930</td>\n",
       "      <td>1.000000</td>\n",
       "      <td>-0.009823</td>\n",
       "      <td>-0.069532</td>\n",
       "    </tr>\n",
       "    <tr>\n",
       "      <th>Year</th>\n",
       "      <td>-0.012560</td>\n",
       "      <td>0.014223</td>\n",
       "      <td>0.012087</td>\n",
       "      <td>-0.004781</td>\n",
       "      <td>-0.009823</td>\n",
       "      <td>1.000000</td>\n",
       "      <td>-0.003426</td>\n",
       "    </tr>\n",
       "    <tr>\n",
       "      <th>income_group</th>\n",
       "      <td>0.161100</td>\n",
       "      <td>-0.112283</td>\n",
       "      <td>0.229718</td>\n",
       "      <td>-0.631624</td>\n",
       "      <td>-0.069532</td>\n",
       "      <td>-0.003426</td>\n",
       "      <td>1.000000</td>\n",
       "    </tr>\n",
       "  </tbody>\n",
       "</table>\n",
       "</div>"
      ],
      "text/plain": [
       "              population  literacyRate      rank  gdpPerCapita  delta_status  \\\n",
       "population      1.000000     -0.042236 -0.253873     -0.094137     -0.011971   \n",
       "literacyRate   -0.042236      1.000000 -0.365142      0.334413      0.017617   \n",
       "rank           -0.253873     -0.365142  1.000000     -0.448404     -0.054377   \n",
       "gdpPerCapita   -0.094137      0.334413 -0.448404      1.000000      0.067930   \n",
       "delta_status   -0.011971      0.017617 -0.054377      0.067930      1.000000   \n",
       "Year           -0.012560      0.014223  0.012087     -0.004781     -0.009823   \n",
       "income_group    0.161100     -0.112283  0.229718     -0.631624     -0.069532   \n",
       "\n",
       "                  Year  income_group  \n",
       "population   -0.012560      0.161100  \n",
       "literacyRate  0.014223     -0.112283  \n",
       "rank          0.012087      0.229718  \n",
       "gdpPerCapita -0.004781     -0.631624  \n",
       "delta_status -0.009823     -0.069532  \n",
       "Year          1.000000     -0.003426  \n",
       "income_group -0.003426      1.000000  "
      ]
     },
     "execution_count": 128,
     "metadata": {},
     "output_type": "execute_result"
    }
   ],
   "source": [
    "X1.corr()"
   ]
  },
  {
   "cell_type": "code",
   "execution_count": 123,
   "metadata": {},
   "outputs": [
    {
     "name": "stdout",
     "output_type": "stream",
     "text": [
      "1210\n"
     ]
    },
    {
     "data": {
      "text/plain": [
       "array([0, 1, 0, ..., 0, 1, 0], dtype=int64)"
      ]
     },
     "execution_count": 123,
     "metadata": {},
     "output_type": "execute_result"
    }
   ],
   "source": [
    "y=y.ravel()\n",
    "print(len(y))\n",
    "y"
   ]
  },
  {
   "cell_type": "code",
   "execution_count": 124,
   "metadata": {},
   "outputs": [],
   "source": [
    "### BEGIN SOLUTION\n",
    "from sklearn.model_selection import train_test_split\n",
    "\n",
    "X_train, X_test, y_train, y_test = train_test_split(X, y, random_state=10)\n",
    "\n",
    "### END SOLUTION"
   ]
  },
  {
   "cell_type": "code",
   "execution_count": 125,
   "metadata": {},
   "outputs": [],
   "source": [
    "### BEGIN SOLUTION\n",
    "from sklearn.linear_model import LinearRegression\n",
    "model = LinearRegression(n_jobs=10)\n",
    "### END SOLUTION"
   ]
  },
  {
   "cell_type": "code",
   "execution_count": 126,
   "metadata": {},
   "outputs": [
    {
     "name": "stdout",
     "output_type": "stream",
     "text": [
      "Training Score: 0.007782223857244919\n",
      "Testing Score: -0.004659811691548832\n"
     ]
    },
    {
     "data": {
      "text/plain": [
       "array([ 2.17649738e-11,  4.76296207e-04, -3.99344288e-04,  5.35075526e-07,\n",
       "        1.55577791e-03, -1.70846991e-02])"
      ]
     },
     "execution_count": 126,
     "metadata": {},
     "output_type": "execute_result"
    }
   ],
   "source": [
    "### BEGIN SOLUTION\n",
    "\n",
    "model.fit(X_train, y_train)\n",
    "training_score = model.score(X_train, y_train)\n",
    "testing_score = model.score(X_test, y_test)\n",
    "\n",
    "### END SOLUTION \n",
    "\n",
    "print(f\"Training Score: {training_score}\")\n",
    "print(f\"Testing Score: {testing_score}\")\n",
    "model.coef_"
   ]
  },
  {
   "cell_type": "code",
   "execution_count": 96,
   "metadata": {},
   "outputs": [
    {
     "data": {
      "text/plain": [
       "Text(0, 0.5, 'Residual')"
      ]
     },
     "execution_count": 96,
     "metadata": {},
     "output_type": "execute_result"
    },
    {
     "data": {
      "image/png": "[encoded data removed]",
      "text/plain": [
       "<Figure size 432x288 with 1 Axes>"
      ]
     },
     "metadata": {
      "needs_background": "light"
     },
     "output_type": "display_data"
    }
   ],
   "source": [
    "### BEGIN SOLUTION\n",
    "plt.scatter(model.predict(X_train), model.predict(X_train) - y_train, c=\"blue\", label=\"Training Data\")\n",
    "plt.scatter(model.predict(X_test), model.predict(X_test) - y_test, c=\"orange\", label=\"Testing Data\")\n",
    "plt.legend()\n",
    "plt.hlines(y=0, xmin=y.min(), xmax=y.max())\n",
    "plt.title(\"Residual Plot\")\n",
    "plt.xlabel(\"Predicted Delta\")\n",
    "plt.ylabel(\"Residual\")\n",
    "### END SOLUTION"
   ]
  },
  {
   "cell_type": "code",
   "execution_count": 97,
   "metadata": {},
   "outputs": [
    {
     "data": {
      "text/plain": [
       "(45986, 7)"
      ]
     },
     "execution_count": 97,
     "metadata": {},
     "output_type": "execute_result"
    }
   ],
   "source": [
    "X_train.shape"
   ]
  },
  {
   "cell_type": "code",
   "execution_count": 98,
   "metadata": {},
   "outputs": [],
   "source": [
    "# test2=X_train[X_train['country_Afghanistan']==1].iloc[0]\n",
    "# print('Test: ', test2.to_frame().transpose().head())\n",
    "# print('Prediction: ', model.predict(test2.to_frame().transpose()))"
   ]
  },
  {
   "cell_type": "code",
   "execution_count": 99,
   "metadata": {},
   "outputs": [
    {
     "data": {
      "text/plain": [
       "array([0, 0, 1, 0, 0], dtype=int64)"
      ]
     },
     "execution_count": 99,
     "metadata": {},
     "output_type": "execute_result"
    }
   ],
   "source": [
    "y_train[:5]"
   ]
  },
  {
   "cell_type": "code",
   "execution_count": 100,
   "metadata": {},
   "outputs": [],
   "source": [
    "#sorted(model.predict(X_train[X_train['country_India']==1]))"
   ]
  },
  {
   "cell_type": "code",
   "execution_count": 101,
   "metadata": {},
   "outputs": [
    {
     "data": {
      "text/plain": [
       "(45986,)"
      ]
     },
     "execution_count": 101,
     "metadata": {},
     "output_type": "execute_result"
    }
   ],
   "source": [
    "y_train.shape"
   ]
  },
  {
   "cell_type": "code",
   "execution_count": 102,
   "metadata": {},
   "outputs": [],
   "source": [
    "from sklearn.linear_model import Ridge\n",
    "\n",
    "Ridge_model = Ridge()\n",
    "\n",
    "param_grid = {\"alpha\" : [0.001, 0.01, 0.1, 1, 2, 5]}"
   ]
  },
  {
   "cell_type": "code",
   "execution_count": 103,
   "metadata": {},
   "outputs": [],
   "source": [
    "from sklearn.model_selection import GridSearchCV\n",
    "\n",
    "grid = GridSearchCV(Ridge_model, param_grid=param_grid, cv=3, verbose=2)"
   ]
  },
  {
   "cell_type": "code",
   "execution_count": 104,
   "metadata": {},
   "outputs": [
    {
     "name": "stdout",
     "output_type": "stream",
     "text": [
      "Fitting 3 folds for each of 6 candidates, totalling 18 fits\n",
      "[CV] alpha=0.001 .....................................................\n",
      "[CV] ...................................... alpha=0.001, total=   0.0s\n",
      "[CV] alpha=0.001 .....................................................\n",
      "[CV] ...................................... alpha=0.001, total=   0.0s\n",
      "[CV] alpha=0.001 .....................................................\n",
      "[CV] ...................................... alpha=0.001, total=   0.0s\n",
      "[CV] alpha=0.01 ......................................................\n",
      "[CV] ....................................... alpha=0.01, total=   0.0s\n",
      "[CV] alpha=0.01 ......................................................\n",
      "[CV] ....................................... alpha=0.01, total=   0.0s\n",
      "[CV] alpha=0.01 ......................................................\n",
      "[CV] ....................................... alpha=0.01, total=   0.0s\n",
      "[CV] alpha=0.1 .......................................................\n",
      "[CV] ........................................ alpha=0.1, total=   0.0s\n",
      "[CV] alpha=0.1 .......................................................\n",
      "[CV] ........................................ alpha=0.1, total=   0.0s"
     ]
    },
    {
     "name": "stderr",
     "output_type": "stream",
     "text": [
      "[Parallel(n_jobs=1)]: Using backend SequentialBackend with 1 concurrent workers.\n",
      "[Parallel(n_jobs=1)]: Done   1 out of   1 | elapsed:    0.0s remaining:    0.0s\n"
     ]
    },
    {
     "name": "stdout",
     "output_type": "stream",
     "text": [
      "\n",
      "[CV] alpha=0.1 .......................................................\n",
      "[CV] ........................................ alpha=0.1, total=   0.0s\n",
      "[CV] alpha=1 .........................................................\n",
      "[CV] .......................................... alpha=1, total=   0.0s\n",
      "[CV] alpha=1 .........................................................\n",
      "[CV] .......................................... alpha=1, total=   0.0s\n",
      "[CV] alpha=1 .........................................................\n",
      "[CV] .......................................... alpha=1, total=   0.0s\n",
      "[CV] alpha=2 .........................................................\n",
      "[CV] .......................................... alpha=2, total=   0.0s\n",
      "[CV] alpha=2 .........................................................\n",
      "[CV] .......................................... alpha=2, total=   0.0s\n",
      "[CV] alpha=2 .........................................................\n",
      "[CV] .......................................... alpha=2, total=   0.0s\n",
      "[CV] alpha=5 .........................................................\n",
      "[CV] .......................................... alpha=5, total=   0.0s\n",
      "[CV] alpha=5 .........................................................\n",
      "[CV] .......................................... alpha=5, total=   0.0s\n",
      "[CV] alpha=5 .........................................................\n",
      "[CV] .......................................... alpha=5, total=   0.0s\n"
     ]
    },
    {
     "name": "stderr",
     "output_type": "stream",
     "text": [
      "[Parallel(n_jobs=1)]: Done  18 out of  18 | elapsed:    0.3s finished\n"
     ]
    },
    {
     "data": {
      "text/plain": [
       "GridSearchCV(cv=3, estimator=Ridge(),\n",
       "             param_grid={'alpha': [0.001, 0.01, 0.1, 1, 2, 5]}, verbose=2)"
      ]
     },
     "execution_count": 104,
     "metadata": {},
     "output_type": "execute_result"
    }
   ],
   "source": [
    "grid.fit(X_train, y_train)"
   ]
  },
  {
   "cell_type": "code",
   "execution_count": 105,
   "metadata": {},
   "outputs": [
    {
     "data": {
      "text/plain": [
       "{'alpha': 5}"
      ]
     },
     "execution_count": 105,
     "metadata": {},
     "output_type": "execute_result"
    }
   ],
   "source": [
    "grid.best_params_"
   ]
  },
  {
   "cell_type": "code",
   "execution_count": 106,
   "metadata": {},
   "outputs": [
    {
     "data": {
      "text/plain": [
       "0.4286120502701368"
      ]
     },
     "execution_count": 106,
     "metadata": {},
     "output_type": "execute_result"
    }
   ],
   "source": [
    "grid.score(X_test, y_test)"
   ]
  },
  {
   "cell_type": "code",
   "execution_count": 107,
   "metadata": {},
   "outputs": [],
   "source": [
    "from sklearn.linear_model import Lasso\n",
    "\n",
    "Lasso_model = Lasso()\n",
    "\n",
    "param_grid = {\"alpha\" : [0.001, 0.01, 0.1, 1, 2, 5]}"
   ]
  },
  {
   "cell_type": "code",
   "execution_count": 108,
   "metadata": {},
   "outputs": [],
   "source": [
    "from sklearn.model_selection import GridSearchCV\n",
    "\n",
    "lasso_grid = GridSearchCV(Lasso_model, param_grid=param_grid, cv=3, verbose=2)"
   ]
  },
  {
   "cell_type": "code",
   "execution_count": 109,
   "metadata": {},
   "outputs": [
    {
     "name": "stdout",
     "output_type": "stream",
     "text": [
      "Fitting 3 folds for each of 6 candidates, totalling 18 fits\n",
      "[CV] alpha=0.001 .....................................................\n",
      "[CV] ...................................... alpha=0.001, total=   0.0s\n",
      "[CV] alpha=0.001 .....................................................\n",
      "[CV] ...................................... alpha=0.001, total=   0.0s\n",
      "[CV] alpha=0.001 .....................................................\n",
      "[CV] ...................................... alpha=0.001, total=   0.0s\n",
      "[CV] alpha=0.01 ......................................................\n",
      "[CV] ....................................... alpha=0.01, total=   0.0s\n",
      "[CV] alpha=0.01 ......................................................\n",
      "[CV] ....................................... alpha=0.01, total=   0.0s"
     ]
    },
    {
     "name": "stderr",
     "output_type": "stream",
     "text": [
      "[Parallel(n_jobs=1)]: Using backend SequentialBackend with 1 concurrent workers.\n",
      "[Parallel(n_jobs=1)]: Done   1 out of   1 | elapsed:    0.0s remaining:    0.0s\n"
     ]
    },
    {
     "name": "stdout",
     "output_type": "stream",
     "text": [
      "\n",
      "[CV] alpha=0.01 ......................................................\n",
      "[CV] ....................................... alpha=0.01, total=   0.0s\n",
      "[CV] alpha=0.1 .......................................................\n",
      "[CV] ........................................ alpha=0.1, total=   0.0s\n",
      "[CV] alpha=0.1 .......................................................\n",
      "[CV] ........................................ alpha=0.1, total=   0.0s\n",
      "[CV] alpha=0.1 .......................................................\n",
      "[CV] ........................................ alpha=0.1, total=   0.0s\n",
      "[CV] alpha=1 .........................................................\n",
      "[CV] .......................................... alpha=1, total=   0.0s\n",
      "[CV] alpha=1 .........................................................\n",
      "[CV] .......................................... alpha=1, total=   0.0s\n",
      "[CV] alpha=1 .........................................................\n",
      "[CV] .......................................... alpha=1, total=   0.0s\n",
      "[CV] alpha=2 .........................................................\n",
      "[CV] .......................................... alpha=2, total=   0.0s\n",
      "[CV] alpha=2 .........................................................\n",
      "[CV] .......................................... alpha=2, total=   0.0s\n",
      "[CV] alpha=2 .........................................................\n",
      "[CV] .......................................... alpha=2, total=   0.0s\n",
      "[CV] alpha=5 .........................................................\n",
      "[CV] .......................................... alpha=5, total=   0.0s\n",
      "[CV] alpha=5 .........................................................\n",
      "[CV] .......................................... alpha=5, total=   0.0s\n",
      "[CV] alpha=5 .........................................................\n",
      "[CV] .......................................... alpha=5, total=   0.0s\n"
     ]
    },
    {
     "name": "stderr",
     "output_type": "stream",
     "text": [
      "[Parallel(n_jobs=1)]: Done  18 out of  18 | elapsed:    0.4s finished\n"
     ]
    },
    {
     "data": {
      "text/plain": [
       "GridSearchCV(cv=3, estimator=Lasso(),\n",
       "             param_grid={'alpha': [0.001, 0.01, 0.1, 1, 2, 5]}, verbose=2)"
      ]
     },
     "execution_count": 109,
     "metadata": {},
     "output_type": "execute_result"
    }
   ],
   "source": [
    "lasso_grid.fit(X_train, y_train)"
   ]
  },
  {
   "cell_type": "code",
   "execution_count": 110,
   "metadata": {},
   "outputs": [
    {
     "data": {
      "text/plain": [
       "{'alpha': 0.001}"
      ]
     },
     "execution_count": 110,
     "metadata": {},
     "output_type": "execute_result"
    }
   ],
   "source": [
    "lasso_grid.best_params_"
   ]
  },
  {
   "cell_type": "code",
   "execution_count": 111,
   "metadata": {},
   "outputs": [
    {
     "data": {
      "text/plain": [
       "0.42855446236239636"
      ]
     },
     "execution_count": 111,
     "metadata": {},
     "output_type": "execute_result"
    }
   ],
   "source": [
    "lasso_grid.score(X_test, y_test)"
   ]
  },
  {
   "cell_type": "code",
   "execution_count": 112,
   "metadata": {},
   "outputs": [],
   "source": [
    "import pickle\n",
    "\n",
    "with open('../models/LS_model.pkl','wb') as f:\n",
    "    pickle.dump(lasso_grid, f)"
   ]
  },
  {
   "cell_type": "code",
   "execution_count": 113,
   "metadata": {},
   "outputs": [],
   "source": [
    "with open('../models/LS_model.pkl', 'rb') as f:\n",
    "    model = pickle.load(f)"
   ]
  },
  {
   "cell_type": "code",
   "execution_count": 114,
   "metadata": {},
   "outputs": [],
   "source": [
    "with open('../models/LS_model_columns.txt', 'wb') as g:\n",
    "    pickle.dump(X_test.columns, g )"
   ]
  },
  {
   "cell_type": "code",
   "execution_count": 115,
   "metadata": {},
   "outputs": [],
   "source": [
    "with open('../models/LS_model_columns.txt', 'rb') as g:\n",
    "    modelColumns = pickle.load(g)"
   ]
  },
  {
   "cell_type": "code",
   "execution_count": 116,
   "metadata": {},
   "outputs": [
    {
     "name": "stdout",
     "output_type": "stream",
     "text": [
      "population\n",
      "literacyRate\n",
      "rank\n",
      "gdpPerCapita\n",
      "Year\n"
     ]
    },
    {
     "data": {
      "text/plain": [
       "(7,)"
      ]
     },
     "execution_count": 116,
     "metadata": {},
     "output_type": "execute_result"
    }
   ],
   "source": [
    "for i in range(5):\n",
    "    print(modelColumns[i])\n",
    "modelColumns.shape"
   ]
  },
  {
   "cell_type": "code",
   "execution_count": 117,
   "metadata": {},
   "outputs": [
    {
     "name": "stdout",
     "output_type": "stream",
     "text": [
      "Test set score: 0.42855446236239636\n"
     ]
    }
   ],
   "source": [
    "print(f\"Test set score: {model.score(X_test, y_test)}\")"
   ]
  },
  {
   "cell_type": "code",
   "execution_count": 118,
   "metadata": {},
   "outputs": [
    {
     "data": {
      "text/plain": [
       "GridSearchCV(cv=3, estimator=Lasso(),\n",
       "             param_grid={'alpha': [0.001, 0.01, 0.1, 1, 2, 5]}, verbose=2)"
      ]
     },
     "execution_count": 118,
     "metadata": {},
     "output_type": "execute_result"
    }
   ],
   "source": [
    "model"
   ]
  },
  {
   "cell_type": "code",
   "execution_count": null,
   "metadata": {},
   "outputs": [],
   "source": []
  }
 ],
 "metadata": {
  "kernelspec": {
   "display_name": "Python 3",
   "language": "python",
   "name": "python3"
  },
  "language_info": {
   "codemirror_mode": {
    "name": "ipython",
    "version": 3
   },
   "file_extension": ".py",
   "mimetype": "text/x-python",
   "name": "python",
   "nbconvert_exporter": "python",
   "pygments_lexer": "ipython3",
   "version": "3.8.3"
  }
 },
 "nbformat": 4,
 "nbformat_minor": 4
}
